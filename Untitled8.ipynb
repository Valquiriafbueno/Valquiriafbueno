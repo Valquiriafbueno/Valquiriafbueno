{
  "nbformat": 4,
  "nbformat_minor": 0,
  "metadata": {
    "colab": {
      "provenance": [],
      "authorship_tag": "ABX9TyOpbXWpQZ/eUgKjrEIC/VRf",
      "include_colab_link": true
    },
    "kernelspec": {
      "name": "python3",
      "display_name": "Python 3"
    },
    "language_info": {
      "name": "python"
    }
  },
  "cells": [
    {
      "cell_type": "markdown",
      "metadata": {
        "id": "view-in-github",
        "colab_type": "text"
      },
      "source": [
        "<a href=\"https://colab.research.google.com/github/Valquiriafbueno/Valquiriafbueno/blob/main/Untitled8.ipynb\" target=\"_parent\"><img src=\"https://colab.research.google.com/assets/colab-badge.svg\" alt=\"Open In Colab\"/></a>"
      ]
    },
    {
      "cell_type": "code",
      "execution_count": null,
      "metadata": {
        "colab": {
          "base_uri": "https://localhost:8080/"
        },
        "id": "zwbstbqWiyzc",
        "outputId": "533114e9-b5ac-4e22-9aa6-3c4ccf0ce665"
      },
      "outputs": [
        {
          "output_type": "stream",
          "name": "stdout",
          "text": [
            "Digite um número: 30\n",
            "O dobro de 30vale 60.\n",
            "O triplo de 30 vale 90 . \n",
            "A raiz quadrada de 30 é igual a 5.48.\n"
          ]
        }
      ],
      "source": [
        "n = int(input('Digite um número: '))\n",
        "d = n * 2\n",
        "t = n * 3\n",
        "r = n ** (1/2)\n",
        "print('O dobro de {}vale {}.'.format(n, d))\n",
        "print('O triplo de {} vale {} . \\nA raiz quadrada de {} é igual a {:.2f}.'.format(n, t, n, r))"
      ]
    },
    {
      "cell_type": "code",
      "source": [
        "dias = int(input('Quantos dias alugados? '))\n",
        "km = float(input('Quantos km rodados? '))\n",
        "pago = (dias * 60) + (km * 0.15)\n",
        "print('O total a pagar é de R${:.2f}'.format(pago))"
      ],
      "metadata": {
        "colab": {
          "base_uri": "https://localhost:8080/"
        },
        "id": "xZBsMe7uVYA4",
        "outputId": "1403ba73-5851-47b3-95f6-605177b6226b"
      },
      "execution_count": 3,
      "outputs": [
        {
          "output_type": "stream",
          "name": "stdout",
          "text": [
            "Quantos dias alugados? 5\n",
            "Quantos km rodados? 5000\n",
            "O total a pagar é de R$1050.00\n"
          ]
        }
      ]
    },
    {
      "cell_type": "code",
      "source": [
        "n = int(input('Digite um numero: '))\n",
        "print('O dobro de {} vale {}'.format(n, n*2))\n",
        "print('O triplo de {} vale {}. \\nA raiz quadrada de {} é igual a {:.2f}'.format(n, (n*3), n, pow(n, (1/2))))"
      ],
      "metadata": {
        "colab": {
          "base_uri": "https://localhost:8080/"
        },
        "id": "Sfyq28jBk0FB",
        "outputId": "355d135f-0d39-4709-bbb8-7dfb4f4e85d9"
      },
      "execution_count": null,
      "outputs": [
        {
          "output_type": "stream",
          "name": "stdout",
          "text": [
            "Digite um numero: 30\n",
            "O dobro de 30 vale 60\n",
            "O triplo de 30 vale 90. \n",
            "A raiz quadrada de 30 é igual a 5.48\n"
          ]
        }
      ]
    },
    {
      "cell_type": "code",
      "source": [
        "m1 = float(input('Primeira nota do Aluno: '))\n",
        "m2 = float(input('Segunda nota do Aluno: '))\n",
        "m = (m1 + m2) / 2\n",
        "print('A média entre {:.1f} e {:.1f} é igual a {:.1f}'.format(m1, m2, m))\n"
      ],
      "metadata": {
        "colab": {
          "base_uri": "https://localhost:8080/"
        },
        "id": "rTrkI1-aor-J",
        "outputId": "e7396ea7-68cb-4e86-9923-3ece09f4c7f2"
      },
      "execution_count": null,
      "outputs": [
        {
          "output_type": "stream",
          "name": "stdout",
          "text": [
            "Primeira nota do Aluno: 7\n",
            "Segunda nota do Aluno: 9\n",
            "A média entre 7.0 e 9.0 é igual a 8.0\n"
          ]
        }
      ]
    },
    {
      "cell_type": "code",
      "source": [
        "medida = float(input('Uma distância em metros: '))\n",
        "cm = medida * 100\n",
        "mm = medida * 1000\n",
        "print('A medida de {}m corresponde a {:.0f}cm e {:.0f}mm'.format(medida, cm, mm))"
      ],
      "metadata": {
        "colab": {
          "base_uri": "https://localhost:8080/"
        },
        "id": "ZPmu8sAhuBAW",
        "outputId": "59fa114a-42f7-489c-d6f7-2d5a1acedc0c"
      },
      "execution_count": null,
      "outputs": [
        {
          "output_type": "stream",
          "name": "stdout",
          "text": [
            "Uma distância em metros: 3.2\n",
            "A medida de 3.2m corresponde a 320cm e 3200mm\n"
          ]
        }
      ]
    },
    {
      "cell_type": "code",
      "source": [
        "num = int(input('Digite um número para ver sua tabuada: '))\n",
        "print ('=' * 12)\n",
        "print('{} x {:2} = {}'.format(num, 1, num*1))\n",
        "print('{} x {:2} = {}'.format(num, 2, num*2))\n",
        "print('{} x {:2} = {}'.format(num, 3, num*3))\n",
        "print('{} x {:2} = {}'.format(num, 4, num*4))\n",
        "print('{} x {:2} = {}'.format(num, 5, num*5))\n",
        "print('{} x {:2} = {}'.format(num, 6, num*6))\n",
        "print('{} x {:2} = {}'.format(num, 7, num*7))\n",
        "print('{} x {:2} = {}'.format(num, 8, num*8))\n",
        "print('{} x {:2} = {}'.format(num, 9, num*9 ))\n",
        "print('{} x {:2} = {}'.format(num, 10, num*10))\n",
        "print('=' * 12)\n"
      ],
      "metadata": {
        "colab": {
          "base_uri": "https://localhost:8080/"
        },
        "id": "unPEPv6VwbxX",
        "outputId": "cc18334d-34d1-4f96-cb24-4522de56b1eb"
      },
      "execution_count": null,
      "outputs": [
        {
          "output_type": "stream",
          "name": "stdout",
          "text": [
            "Digite um número para ver sua tabuada: 9\n",
            "============\n",
            "9 x  1 = 9\n",
            "9 x  2 = 18\n",
            "9 x  3 = 27\n",
            "9 x  4 = 36\n",
            "9 x  5 = 45\n",
            "9 x  6 = 54\n",
            "9 x  7 = 63\n",
            "9 x  8 = 72\n",
            "9 x  9 = 81\n",
            "9 x 10 = 90\n",
            "============\n"
          ]
        }
      ]
    },
    {
      "cell_type": "code",
      "source": [
        "real = float(input('Quanto dinheiro você tem na carteira? R$'))\n",
        "dolar = real / 3.27\n",
        "print('Com R${:.2f} você pode comprar US${:.2f}'.format(real, dolar))"
      ],
      "metadata": {
        "colab": {
          "base_uri": "https://localhost:8080/"
        },
        "id": "a3AUktesyqJi",
        "outputId": "8ef20d43-f03c-494a-92ff-cca54097de67"
      },
      "execution_count": null,
      "outputs": [
        {
          "output_type": "stream",
          "name": "stdout",
          "text": [
            "Quanto dinheiro você tem na carteira? R$55\n",
            "Com R$55.00 você pode comprar US$16.82\n"
          ]
        }
      ]
    },
    {
      "cell_type": "code",
      "source": [
        "larg = float(input('Largura da parede: '))\n",
        "alt = float(input('Altura da parede: '))\n",
        "área = larg * alt\n",
        "print('Sua parede tem a dimensão de {}x{} e sua área é de {}m²'.format(larg, alt, área))\n",
        "tinta = área / 2\n",
        "print('Para pintar essa parede, você precisará de {}l de tinta'.format(tinta))"
      ],
      "metadata": {
        "colab": {
          "base_uri": "https://localhost:8080/"
        },
        "id": "CFof0HFM4ygh",
        "outputId": "27b93737-2710-4ba9-c775-45aa8f471095"
      },
      "execution_count": null,
      "outputs": [
        {
          "output_type": "stream",
          "name": "stdout",
          "text": [
            "Largura da parede: 4\n",
            "Altura da parede: 2\n",
            "Sua parede tem a dimensão de 4.0x2.0 e sua área é de 8.0m²\n",
            "Para pintar essa parede, você precisará de 4.0l de tinta\n"
          ]
        }
      ]
    },
    {
      "cell_type": "code",
      "source": [
        "preço = float(input('Qual o preço do produto? R$'))\n",
        "novo = preço - (preço * 5/ 100)\n",
        "print('O produto que custava {:.2f}, na promoção com desconto de 5% vai custar R${:.2f}'.format(preço, novo))"
      ],
      "metadata": {
        "colab": {
          "base_uri": "https://localhost:8080/"
        },
        "id": "11F7E-vTQFlO",
        "outputId": "125decd2-e984-42d3-d978-9ff7d391b33c"
      },
      "execution_count": null,
      "outputs": [
        {
          "output_type": "stream",
          "name": "stdout",
          "text": [
            "Qual o preço do produto? R$100\n",
            "O produto que custava 100.00, na promoção com desconto de 5% vai custar R$95.00\n"
          ]
        }
      ]
    },
    {
      "cell_type": "code",
      "source": [
        "salário = float(input('Qual o valor do salario do funcionario? R$'))\n",
        "aumento = salário - (salario * 15/ 100)\n",
        "atual = salário + (salário * 15/ 100)\n",
        "print('Um funcionario que ganhava R${:.2f}, com o ajuste salarial de 15% terá um aumento de R${:.2f}'.format(salario, aumento))\n",
        "print('O valor do aumento do salário será? R${:.2f} , e o valor total do salário atual será R${:.2f}'.format(aumento, atual))"
      ],
      "metadata": {
        "colab": {
          "base_uri": "https://localhost:8080/"
        },
        "id": "27BgCcOyRiuN",
        "outputId": "b1acbd2c-a29f-46ef-846f-4c5a3ed24d6b"
      },
      "execution_count": null,
      "outputs": [
        {
          "output_type": "stream",
          "name": "stdout",
          "text": [
            "Qual o valor do salario do funcionario? R$1000\n",
            "Um funcionario que ganhava R$1000.00, com o ajuste salarial de 15% terá um aumento de R$850.00\n",
            "O valor do aumento do salário será? R$850.00 , e o valor total do salário atual será R$1150.00\n"
          ]
        }
      ]
    },
    {
      "cell_type": "code",
      "source": [
        "c = float(input('Informe a temperatura em °C: '))\n",
        "f = ((9 * c) / 5) + 32\n",
        "print('A temperatura de {}°C corresponde a {}°F!'.format(c, f))"
      ],
      "metadata": {
        "colab": {
          "base_uri": "https://localhost:8080/"
        },
        "id": "m16laZNlZikX",
        "outputId": "98dac75c-e531-4e1f-ddcd-a88e0c13de89"
      },
      "execution_count": null,
      "outputs": [
        {
          "output_type": "stream",
          "name": "stdout",
          "text": [
            "Informe a temperatura em °C: 21\n",
            "A temperatura de 21.0°C corresponde a 69.8°F!\n"
          ]
        }
      ]
    }
  ]
}