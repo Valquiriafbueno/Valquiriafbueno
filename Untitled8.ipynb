{
  "nbformat": 4,
  "nbformat_minor": 0,
  "metadata": {
    "colab": {
      "provenance": [],
      "authorship_tag": "ABX9TyPo1Xc4MEG/KKW95X8lWzLj",
      "include_colab_link": true
    },
    "kernelspec": {
      "name": "python3",
      "display_name": "Python 3"
    },
    "language_info": {
      "name": "python"
    }
  },
  "cells": [
    {
      "cell_type": "markdown",
      "metadata": {
        "id": "view-in-github",
        "colab_type": "text"
      },
      "source": [
        "<a href=\"https://colab.research.google.com/github/Valquiriafbueno/Valquiriafbueno/blob/main/Untitled8.ipynb\" target=\"_parent\"><img src=\"https://colab.research.google.com/assets/colab-badge.svg\" alt=\"Open In Colab\"/></a>"
      ]
    },
    {
      "cell_type": "code",
      "execution_count": 8,
      "metadata": {
        "colab": {
          "base_uri": "https://localhost:8080/"
        },
        "id": "zwbstbqWiyzc",
        "outputId": "533114e9-b5ac-4e22-9aa6-3c4ccf0ce665"
      },
      "outputs": [
        {
          "output_type": "stream",
          "name": "stdout",
          "text": [
            "Digite um número: 30\n",
            "O dobro de 30vale 60.\n",
            "O triplo de 30 vale 90 . \n",
            "A raiz quadrada de 30 é igual a 5.48.\n"
          ]
        }
      ],
      "source": [
        "n = int(input('Digite um número: '))\n",
        "d = n * 2\n",
        "t = n * 3\n",
        "r = n ** (1/2)\n",
        "print('O dobro de {}vale {}.'.format(n, d))\n",
        "print('O triplo de {} vale {} . \\nA raiz quadrada de {} é igual a {:.2f}.'.format(n, t, n, r))"
      ]
    },
    {
      "cell_type": "code",
      "source": [
        "n = int(input('Digite um numero: '))\n",
        "print('O dobro de {} vale {}'.format(n, n*2))\n",
        "print('O triplo de {} vale {}. \\nA raiz quadrada de {} é igual a {:.2f}'.format(n, (n*3), n, pow(n, (1/2))))"
      ],
      "metadata": {
        "colab": {
          "base_uri": "https://localhost:8080/"
        },
        "id": "Sfyq28jBk0FB",
        "outputId": "355d135f-0d39-4709-bbb8-7dfb4f4e85d9"
      },
      "execution_count": 12,
      "outputs": [
        {
          "output_type": "stream",
          "name": "stdout",
          "text": [
            "Digite um numero: 30\n",
            "O dobro de 30 vale 60\n",
            "O triplo de 30 vale 90. \n",
            "A raiz quadrada de 30 é igual a 5.48\n"
          ]
        }
      ]
    },
    {
      "cell_type": "code",
      "source": [
        "m1 = float(input('Primeira nota do Aluno: '))\n",
        "m2 = float(input('Segunda nota do Aluno: '))\n",
        "m = (m1 + m2) / 2\n",
        "print('A média entre {:.1f} e {:.1f} é igual a {:.1f}'.format(m1, m2, m))\n"
      ],
      "metadata": {
        "colab": {
          "base_uri": "https://localhost:8080/"
        },
        "id": "rTrkI1-aor-J",
        "outputId": "e7396ea7-68cb-4e86-9923-3ece09f4c7f2"
      },
      "execution_count": 14,
      "outputs": [
        {
          "output_type": "stream",
          "name": "stdout",
          "text": [
            "Primeira nota do Aluno: 7\n",
            "Segunda nota do Aluno: 9\n",
            "A média entre 7.0 e 9.0 é igual a 8.0\n"
          ]
        }
      ]
    },
    {
      "cell_type": "code",
      "source": [
        "medida = float(input('Uma distância em metros: '))\n",
        "cm = medida * 100\n",
        "mm = medida * 1000\n",
        "print('A medida de {}m corresponde a {:.0f}cm e {:.0f}mm'.format(medida, cm, mm))"
      ],
      "metadata": {
        "colab": {
          "base_uri": "https://localhost:8080/"
        },
        "id": "ZPmu8sAhuBAW",
        "outputId": "59fa114a-42f7-489c-d6f7-2d5a1acedc0c"
      },
      "execution_count": 16,
      "outputs": [
        {
          "output_type": "stream",
          "name": "stdout",
          "text": [
            "Uma distância em metros: 3.2\n",
            "A medida de 3.2m corresponde a 320cm e 3200mm\n"
          ]
        }
      ]
    },
    {
      "cell_type": "code",
      "source": [
        "num = int(input('Digite um número para ver sua tabuada: '))\n",
        "print ('=' * 12)\n",
        "print('{} x {:2} = {}'.format(num, 1, num*1))\n",
        "print('{} x {:2} = {}'.format(num, 2, num*2))\n",
        "print('{} x {:2} = {}'.format(num, 3, num*3))\n",
        "print('{} x {:2} = {}'.format(num, 4, num*4))\n",
        "print('{} x {:2} = {}'.format(num, 5, num*5))\n",
        "print('{} x {:2} = {}'.format(num, 6, num*6))\n",
        "print('{} x {:2} = {}'.format(num, 7, num*7))\n",
        "print('{} x {:2} = {}'.format(num, 8, num*8))\n",
        "print('{} x {:2} = {}'.format(num, 9, num*9 ))\n",
        "print('{} x {:2} = {}'.format(num, 10, num*10))\n",
        "print('=' * 12)\n"
      ],
      "metadata": {
        "colab": {
          "base_uri": "https://localhost:8080/"
        },
        "id": "unPEPv6VwbxX",
        "outputId": "cc18334d-34d1-4f96-cb24-4522de56b1eb"
      },
      "execution_count": 20,
      "outputs": [
        {
          "output_type": "stream",
          "name": "stdout",
          "text": [
            "Digite um número para ver sua tabuada: 9\n",
            "============\n",
            "9 x  1 = 9\n",
            "9 x  2 = 18\n",
            "9 x  3 = 27\n",
            "9 x  4 = 36\n",
            "9 x  5 = 45\n",
            "9 x  6 = 54\n",
            "9 x  7 = 63\n",
            "9 x  8 = 72\n",
            "9 x  9 = 81\n",
            "9 x 10 = 90\n",
            "============\n"
          ]
        }
      ]
    },
    {
      "cell_type": "code",
      "source": [
        "real = float(input('Quanto dinheiro você tem na carteira? R$'))\n",
        "dolar = real / 3.27\n",
        "print('Com R${:.2f} você pode comprar US${:.2f}'.format(real, dolar))"
      ],
      "metadata": {
        "colab": {
          "base_uri": "https://localhost:8080/"
        },
        "id": "a3AUktesyqJi",
        "outputId": "8ef20d43-f03c-494a-92ff-cca54097de67"
      },
      "execution_count": 21,
      "outputs": [
        {
          "output_type": "stream",
          "name": "stdout",
          "text": [
            "Quanto dinheiro você tem na carteira? R$55\n",
            "Com R$55.00 você pode comprar US$16.82\n"
          ]
        }
      ]
    },
    {
      "cell_type": "code",
      "source": [
        "larg = float(input('Largura da parede: '))\n",
        "alt = float(input('Altura da parede: '))\n",
        "área = larg * alt\n",
        "print('Sua parede tem a dimensão de {}x{} e sua área é de {}m²'.format(larg, alt, área))\n",
        "tinta = área / 2\n",
        "print('Para pintar essa parede, você precisará de {}l de tinta'.format(tinta))"
      ],
      "metadata": {
        "colab": {
          "base_uri": "https://localhost:8080/"
        },
        "id": "CFof0HFM4ygh",
        "outputId": "27b93737-2710-4ba9-c775-45aa8f471095"
      },
      "execution_count": 22,
      "outputs": [
        {
          "output_type": "stream",
          "name": "stdout",
          "text": [
            "Largura da parede: 4\n",
            "Altura da parede: 2\n",
            "Sua parede tem a dimensão de 4.0x2.0 e sua área é de 8.0m²\n",
            "Para pintar essa parede, você precisará de 4.0l de tinta\n"
          ]
        }
      ]
    }
  ]
}